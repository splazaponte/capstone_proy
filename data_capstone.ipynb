{
 "nbformat": 4,
 "nbformat_minor": 2,
 "metadata": {
  "language_info": {
   "name": "python",
   "codemirror_mode": {
    "name": "ipython",
    "version": 3
   },
   "version": "3.7.4-final"
  },
  "orig_nbformat": 2,
  "file_extension": ".py",
  "mimetype": "text/x-python",
  "name": "python",
  "npconvert_exporter": "python",
  "pygments_lexer": "ipython3",
  "version": 3,
  "kernelspec": {
   "name": "python37464bitbaseconda4b954fc8514f44bfa404312246e9a2a7",
   "display_name": "Python 3.7.4 64-bit ('base': conda)"
  }
 },
 "cells": [
  {
   "cell_type": "markdown",
   "execution_count": null,
   "metadata": {},
   "outputs": [],
   "source": [
    "# Data"
   ]
  },
  {
   "cell_type": "code",
   "execution_count": null,
   "metadata": {},
   "outputs": [],
   "source": []
  },
  {
   "cell_type": "code",
   "execution_count": 1,
   "metadata": {},
   "outputs": [],
   "source": [
    "# libraries\n",
    "# importing libraries\n",
    "import pandas as pd\n",
    "import numpy as np\n",
    "import folium, json,requests, googlemaps, pprint, time\n",
    "from geopy.geocoders import Nominatim\n",
    "from sklearn import preprocessing\n",
    "import itertools\n",
    "import matplotlib.pyplot as plt\n",
    "import matplotlib.cm as cm\n",
    "import matplotlib.colors as colors\n",
    "from sklearn.cluster import KMeans"
   ]
  },
  {
   "cell_type": "code",
   "execution_count": 2,
   "metadata": {},
   "outputs": [],
   "source": [
    "# get categories functions\n",
    "def get_venue_category_type(row):\n",
    "    try:\n",
    "        category_list = row[\"categories\"]\n",
    "    except:\n",
    "        category_list = row[\"venue.categories\"]\n",
    "    if len(category_list) == 0:\n",
    "        return None\n",
    "    else:\n",
    "        return category_list[0][\"name\"]"
   ]
  },
  {
   "cell_type": "code",
   "execution_count": 4,
   "metadata": {},
   "outputs": [
    {
     "name": "stderr",
     "output_type": "stream",
     "text": "/Users/sebastianplazaponteeguez/opt/anaconda3/lib/python3.7/site-packages/ipykernel_launcher.py:12: FutureWarning: pandas.io.json.json_normalize is deprecated, use pandas.json_normalize instead\n  if sys.path[0] == '':\n"
    }
   ],
   "source": [
    "#getting location for the center point of the city\n",
    "address = \"Plaza 24 de Septiembre, Santa Cruz, Bolivia\"\n",
    "geolocator = Nominatim(user_agent=\"foursquare_agent\")\n",
    "geocode = geolocator.geocode(address)\n",
    "client_id=\"G3WAOM5ZI0MEA2CQY53QKVYPBP24PLKX05VZNRQOFZ5EP01D\"\n",
    "client_secret=\"F31PEH03QREWU0D2JTOK0NKO3HGM3MRY3VQWMDBNQC5QY0AC\"\n",
    "v=\"20191206\"\n",
    "radius = 4000\n",
    "search_query = \"food\"\n",
    "url = 'https://api.foursquare.com/v2/venues/search?client_id={}&client_secret={}&ll={},{}&v={}&query={}&radius={}'.format(client_id, client_secret, geocode.latitude, geocode.longitude, v, search_query, radius)\n",
    "results = requests.get(url).json()\n",
    "venues = pd.io.json.json_normalize(results[\"response\"][\"venues\"])\n",
    "# filtering useful columns\n",
    "venues = venues.loc[slice(None), [\"name\", \"categories\"] + [col for col in venues.columns if col.startswith(\"location.\")] + [\"id\"]]\n",
    "venues[\"categories\"] = venues.apply(get_venue_category_type, axis=1)\n",
    "# Deleting useless columns\n",
    "venues.drop(columns=[\"location.address\", \"location.crossStreet\", \"location.cc\"], inplace=True)\n",
    "# filling missing data and replacing to get more uniform data\n",
    "venues[\"location.state\"].fillna(\"Santa Cruz\", inplace=True)\n",
    "venues[\"location.state\"].replace(to_replace=[\"SCZ\", \"Andres Ibañez\"], value=\"Santa Cruz\", inplace=True)\n",
    "venues[\"location.city\"].fillna(\"Santa Cruz de la Sierra\", inplace=True)\n",
    "venues[\"location.city\"].replace(to_replace=[\"Santa Cruz\", \"Bolivia\"], value=\"Santa Cruz de la Sierra\", inplace=True)"
   ]
  },
  {
   "cell_type": "code",
   "execution_count": 5,
   "metadata": {},
   "outputs": [
    {
     "data": {
      "text/html": "<div>\n<style scoped>\n    .dataframe tbody tr th:only-of-type {\n        vertical-align: middle;\n    }\n\n    .dataframe tbody tr th {\n        vertical-align: top;\n    }\n\n    .dataframe thead th {\n        text-align: right;\n    }\n</style>\n<table border=\"1\" class=\"dataframe\">\n  <thead>\n    <tr style=\"text-align: right;\">\n      <th></th>\n      <th>name</th>\n      <th>categories</th>\n      <th>location.lat</th>\n      <th>location.lng</th>\n      <th>location.labeledLatLngs</th>\n      <th>location.distance</th>\n      <th>location.state</th>\n      <th>location.country</th>\n      <th>location.formattedAddress</th>\n      <th>location.city</th>\n      <th>id</th>\n    </tr>\n  </thead>\n  <tbody>\n    <tr>\n      <th>0</th>\n      <td>Las Vegas Buffet Fast Food</td>\n      <td>Buffet</td>\n      <td>-17.773001</td>\n      <td>-63.194445</td>\n      <td>[{'label': 'display', 'lat': -17.773001, 'lng'...</td>\n      <td>1738</td>\n      <td>Santa Cruz</td>\n      <td>Bolivia</td>\n      <td>[Bolivia]</td>\n      <td>Santa Cruz de la Sierra</td>\n      <td>5d7bd58e2deabf00082c99db</td>\n    </tr>\n    <tr>\n      <th>1</th>\n      <td>Brazilian Fast Food</td>\n      <td>Fast Food Restaurant</td>\n      <td>-17.782999</td>\n      <td>-63.185392</td>\n      <td>[{'label': 'display', 'lat': -17.782999, 'lng'...</td>\n      <td>348</td>\n      <td>Santa Cruz</td>\n      <td>Bolivia</td>\n      <td>[Santa Cruz de la Sierra, Bolivia]</td>\n      <td>Santa Cruz de la Sierra</td>\n      <td>4d08be1ce554721e4f66c3f8</td>\n    </tr>\n    <tr>\n      <th>2</th>\n      <td>Chapaco's Fast Food Grill</td>\n      <td>BBQ Joint</td>\n      <td>-17.766326</td>\n      <td>-63.164481</td>\n      <td>[{'label': 'display', 'lat': -17.7663256212280...</td>\n      <td>2657</td>\n      <td>Santa Cruz</td>\n      <td>Bolivia</td>\n      <td>[Santa Cruz de la Sierra, Bolivia]</td>\n      <td>Santa Cruz de la Sierra</td>\n      <td>5349db8f498e54a3178975a3</td>\n    </tr>\n    <tr>\n      <th>3</th>\n      <td>Canyella - Food, Drinks &amp; Music</td>\n      <td>Mediterranean Restaurant</td>\n      <td>-17.782080</td>\n      <td>-63.186061</td>\n      <td>[{'label': 'display', 'lat': -17.7820803075033...</td>\n      <td>439</td>\n      <td>Santa Cruz</td>\n      <td>Bolivia</td>\n      <td>[Calle 21 de Mayo 258, Santa Cruz de la Sierra...</td>\n      <td>Santa Cruz de la Sierra</td>\n      <td>52b1dedd11d2564fa7a312a0</td>\n    </tr>\n    <tr>\n      <th>4</th>\n      <td>My Food</td>\n      <td>Fast Food Restaurant</td>\n      <td>-17.785425</td>\n      <td>-63.188457</td>\n      <td>[{'label': 'display', 'lat': -17.7854251861572...</td>\n      <td>712</td>\n      <td>Santa Cruz</td>\n      <td>Bolivia</td>\n      <td>[Av Cañoto, Santa Cruz de la Sierra, Bolivia]</td>\n      <td>Santa Cruz de la Sierra</td>\n      <td>55048e00498ee7519a90e643</td>\n    </tr>\n    <tr>\n      <th>5</th>\n      <td>Garajes Food Trucks</td>\n      <td>Food Truck</td>\n      <td>-17.755136</td>\n      <td>-63.172903</td>\n      <td>[{'label': 'display', 'lat': -17.7551359812027...</td>\n      <td>3283</td>\n      <td>Santa Cruz</td>\n      <td>Bolivia</td>\n      <td>[Santa Cruz de la Sierra, Bolivia]</td>\n      <td>Santa Cruz de la Sierra</td>\n      <td>5a419c6a6f0aa276862e5dfd</td>\n    </tr>\n    <tr>\n      <th>6</th>\n      <td>Mexican Food</td>\n      <td>Mexican Restaurant</td>\n      <td>-17.788620</td>\n      <td>-63.186354</td>\n      <td>[{'label': 'display', 'lat': -17.7886199703056...</td>\n      <td>743</td>\n      <td>Santa Cruz</td>\n      <td>Bolivia</td>\n      <td>[Bolivia]</td>\n      <td>Santa Cruz de la Sierra</td>\n      <td>4f95ecdbe4b0d1d5d4540221</td>\n    </tr>\n    <tr>\n      <th>7</th>\n      <td>La Estancia Fast Food</td>\n      <td>Argentinian Restaurant</td>\n      <td>-17.782375</td>\n      <td>-63.189168</td>\n      <td>[{'label': 'display', 'lat': -17.7823749343877...</td>\n      <td>754</td>\n      <td>Santa Cruz</td>\n      <td>Bolivia</td>\n      <td>[Santa Cruz de la Sierra, Bolivia]</td>\n      <td>Santa Cruz de la Sierra</td>\n      <td>4fc16687e4b0d516251295af</td>\n    </tr>\n    <tr>\n      <th>8</th>\n      <td>Mexican Food</td>\n      <td>Mexican Restaurant</td>\n      <td>-17.788543</td>\n      <td>-63.186412</td>\n      <td>[{'label': 'display', 'lat': -17.7885434367881...</td>\n      <td>740</td>\n      <td>Santa Cruz</td>\n      <td>Bolivia</td>\n      <td>[Av. Los cusis #2190 (Entre Beni y Alemana), S...</td>\n      <td>Santa Cruz de la Sierra</td>\n      <td>50fb48c3e4b0d0486d09b3f3</td>\n    </tr>\n    <tr>\n      <th>9</th>\n      <td>Toty's Fast Food</td>\n      <td>Fast Food Restaurant</td>\n      <td>-17.774745</td>\n      <td>-63.180204</td>\n      <td>[{'label': 'display', 'lat': -17.7747451624698...</td>\n      <td>973</td>\n      <td>Santa Cruz</td>\n      <td>Bolivia</td>\n      <td>[Avenida Uruguay  #150, Santa Cruz de la Sierr...</td>\n      <td>Santa Cruz de la Sierra</td>\n      <td>524af9f611d21590ad9a2786</td>\n    </tr>\n    <tr>\n      <th>10</th>\n      <td>Goloxy Fast Food</td>\n      <td>Burger Joint</td>\n      <td>-17.791418</td>\n      <td>-63.177322</td>\n      <td>[{'label': 'display', 'lat': -17.7914180755615...</td>\n      <td>1037</td>\n      <td>Santa Cruz</td>\n      <td>Bolivia</td>\n      <td>[Avenida Iralá, Santa Cruz, Bolivia]</td>\n      <td>Santa Cruz de la Sierra</td>\n      <td>505a71f7e4b065a90b794f8d</td>\n    </tr>\n    <tr>\n      <th>11</th>\n      <td>Señor Oso Super Food Bar</td>\n      <td>Ice Cream Shop</td>\n      <td>-17.783486</td>\n      <td>-63.192893</td>\n      <td>[{'label': 'display', 'lat': -17.7834863650278...</td>\n      <td>1142</td>\n      <td>Santa Cruz</td>\n      <td>Bolivia</td>\n      <td>[Alameda Junin 387 (Reyes Cardona), Santa Cruz...</td>\n      <td>Santa Cruz de la Sierra</td>\n      <td>5a7b7b7ecf72a06f3769c91b</td>\n    </tr>\n    <tr>\n      <th>12</th>\n      <td>El Carretonazo Food Truck</td>\n      <td>Food Court</td>\n      <td>-17.795204</td>\n      <td>-63.174177</td>\n      <td>[{'label': 'display', 'lat': -17.795204, 'lng'...</td>\n      <td>1570</td>\n      <td>Santa Cruz</td>\n      <td>Bolivia</td>\n      <td>[Av. Argentina (Av. Mamerto Cuellar), Santa Cr...</td>\n      <td>Santa Cruz de la Sierra</td>\n      <td>5b3ac96a286fda002c4d3427</td>\n    </tr>\n    <tr>\n      <th>13</th>\n      <td>Food Life</td>\n      <td>Theme Restaurant</td>\n      <td>-17.798782</td>\n      <td>-63.183056</td>\n      <td>[{'label': 'display', 'lat': -17.798782, 'lng'...</td>\n      <td>1726</td>\n      <td>Santa Cruz</td>\n      <td>Bolivia</td>\n      <td>[Santa Cruz de la Sierra, Bolivia]</td>\n      <td>Santa Cruz de la Sierra</td>\n      <td>57964237498eaf4cb022e23d</td>\n    </tr>\n    <tr>\n      <th>14</th>\n      <td>Mumu food</td>\n      <td>Burger Joint</td>\n      <td>-17.771718</td>\n      <td>-63.179923</td>\n      <td>[{'label': 'display', 'lat': -17.771718, 'lng'...</td>\n      <td>1309</td>\n      <td>Santa Cruz</td>\n      <td>Bolivia</td>\n      <td>[Santa Cruz de la Sierra, Bolivia]</td>\n      <td>Santa Cruz de la Sierra</td>\n      <td>52cbf765498ee59c9b700bdb</td>\n    </tr>\n    <tr>\n      <th>15</th>\n      <td>Acai Bar Super Food</td>\n      <td>Comfort Food Restaurant</td>\n      <td>-17.797138</td>\n      <td>-63.180207</td>\n      <td>[{'label': 'display', 'lat': -17.797138, 'lng'...</td>\n      <td>1554</td>\n      <td>Santa Cruz</td>\n      <td>Bolivia</td>\n      <td>[Santa Cruz de la Sierra, Bolivia]</td>\n      <td>Santa Cruz de la Sierra</td>\n      <td>59b459d995da0c3b7f87be4a</td>\n    </tr>\n    <tr>\n      <th>16</th>\n      <td>Bufete Las Vegas Fast Food</td>\n      <td>Thai Restaurant</td>\n      <td>-17.774007</td>\n      <td>-63.192799</td>\n      <td>[{'label': 'display', 'lat': -17.774007, 'lng'...</td>\n      <td>1533</td>\n      <td>Santa Cruz</td>\n      <td>Bolivia</td>\n      <td>[Santa Cruz de la Sierra, Bolivia]</td>\n      <td>Santa Cruz de la Sierra</td>\n      <td>5de2ae1ba11af9000860180d</td>\n    </tr>\n    <tr>\n      <th>17</th>\n      <td>Mood! Healthy Food</td>\n      <td>Salad Place</td>\n      <td>-17.798775</td>\n      <td>-63.179400</td>\n      <td>[{'label': 'display', 'lat': -17.798775, 'lng'...</td>\n      <td>1747</td>\n      <td>Santa Cruz</td>\n      <td>Bolivia</td>\n      <td>[Santa Cruz de la Sierra, Bolivia]</td>\n      <td>Santa Cruz de la Sierra</td>\n      <td>5a7263015ba046224d084786</td>\n    </tr>\n    <tr>\n      <th>18</th>\n      <td>Food Station</td>\n      <td>Food Truck</td>\n      <td>-17.760715</td>\n      <td>-63.186337</td>\n      <td>[{'label': 'display', 'lat': -17.7607149856020...</td>\n      <td>2553</td>\n      <td>Santa Cruz</td>\n      <td>Bolivia</td>\n      <td>[Av. Alemana 5to. Anillo, Santa Cruz de la Sie...</td>\n      <td>Santa Cruz de la Sierra</td>\n      <td>5a542a2486bc4977f4fdfcdc</td>\n    </tr>\n    <tr>\n      <th>19</th>\n      <td>fingers food</td>\n      <td>American Restaurant</td>\n      <td>-17.768155</td>\n      <td>-63.193235</td>\n      <td>[{'label': 'display', 'lat': -17.7681549419152...</td>\n      <td>2056</td>\n      <td>Santa Cruz</td>\n      <td>Bolivia</td>\n      <td>[Bolivia]</td>\n      <td>Santa Cruz de la Sierra</td>\n      <td>5192c999498e5b1e2ff4fd2a</td>\n    </tr>\n    <tr>\n      <th>20</th>\n      <td>chinese.food</td>\n      <td>Fast Food Restaurant</td>\n      <td>-17.782146</td>\n      <td>-63.182776</td>\n      <td>[{'label': 'display', 'lat': -17.782146, 'lng'...</td>\n      <td>145</td>\n      <td>Santa Cruz</td>\n      <td>Bolivia</td>\n      <td>[Santa Cruz de la Sierra, Bolivia]</td>\n      <td>Santa Cruz de la Sierra</td>\n      <td>535d4b9d498e55b16385cd13</td>\n    </tr>\n    <tr>\n      <th>21</th>\n      <td>Santa Maria Fast Food</td>\n      <td>Burger Joint</td>\n      <td>-17.771441</td>\n      <td>-63.168681</td>\n      <td>[{'label': 'display', 'lat': -17.7714413479058...</td>\n      <td>1941</td>\n      <td>Santa Cruz</td>\n      <td>Bolivia</td>\n      <td>[Avenida Mutualista, Santa Cruz de la Sierra, ...</td>\n      <td>Santa Cruz de la Sierra</td>\n      <td>508dc940e4b055a759175128</td>\n    </tr>\n    <tr>\n      <th>22</th>\n      <td>Patio Urbano Food &amp; Bar</td>\n      <td>Food Court</td>\n      <td>-17.795910</td>\n      <td>-63.167187</td>\n      <td>[{'label': 'display', 'lat': -17.79591, 'lng':...</td>\n      <td>2115</td>\n      <td>Santa Cruz</td>\n      <td>Bolivia</td>\n      <td>[Santa Cruz de la Sierra, Bolivia]</td>\n      <td>Santa Cruz de la Sierra</td>\n      <td>5ad9326eb9a5a84263bd83e4</td>\n    </tr>\n    <tr>\n      <th>23</th>\n      <td>Pirai Food&amp;Fun</td>\n      <td>Food Truck</td>\n      <td>-17.792595</td>\n      <td>-63.199881</td>\n      <td>[{'label': 'display', 'lat': -17.792595, 'lng'...</td>\n      <td>2148</td>\n      <td>Santa Cruz</td>\n      <td>Bolivia</td>\n      <td>[Santa Cruz de la Sierra, Bolivia]</td>\n      <td>Santa Cruz de la Sierra</td>\n      <td>5bd12199088158002c5f92bb</td>\n    </tr>\n    <tr>\n      <th>24</th>\n      <td>Food Court - Ventura Mall</td>\n      <td>Comfort Food Restaurant</td>\n      <td>-17.754236</td>\n      <td>-63.199372</td>\n      <td>[{'label': 'display', 'lat': -17.754236, 'lng'...</td>\n      <td>3716</td>\n      <td>Santa Cruz</td>\n      <td>Bolivia</td>\n      <td>[Bolivia]</td>\n      <td>Santa Cruz de la Sierra</td>\n      <td>5307913a498ec45521077178</td>\n    </tr>\n    <tr>\n      <th>25</th>\n      <td>Acai Corner Healthy Food</td>\n      <td>Frozen Yogurt Shop</td>\n      <td>-17.766683</td>\n      <td>-63.194622</td>\n      <td>[{'label': 'display', 'lat': -17.766683, 'lng'...</td>\n      <td>2275</td>\n      <td>Santa Cruz</td>\n      <td>Bolivia</td>\n      <td>[Bolivia]</td>\n      <td>Santa Cruz de la Sierra</td>\n      <td>5c645dad4a7aae002cbc9ea3</td>\n    </tr>\n    <tr>\n      <th>26</th>\n      <td>Meraki Açai Super Food</td>\n      <td>Frozen Yogurt Shop</td>\n      <td>-17.766640</td>\n      <td>-63.194861</td>\n      <td>[{'label': 'display', 'lat': -17.76664, 'lng':...</td>\n      <td>2294</td>\n      <td>Santa Cruz</td>\n      <td>Bolivia</td>\n      <td>[Av san Martin, Santa Cruz de la Sierra, Bolivia]</td>\n      <td>Santa Cruz de la Sierra</td>\n      <td>5a7ef90cee712049240ab452</td>\n    </tr>\n    <tr>\n      <th>27</th>\n      <td>Mexican Food</td>\n      <td>Mexican Restaurant</td>\n      <td>-17.765855</td>\n      <td>-63.171454</td>\n      <td>[{'label': 'display', 'lat': -17.7658551655441...</td>\n      <td>2246</td>\n      <td>Santa Cruz</td>\n      <td>Bolivia</td>\n      <td>[Avenida Los Cusis #2190, Santa Cruz de la Sie...</td>\n      <td>Santa Cruz de la Sierra</td>\n      <td>551727a4498e4a598e2409cf</td>\n    </tr>\n    <tr>\n      <th>28</th>\n      <td>mangiare (Good Fast Food)</td>\n      <td>Fast Food Restaurant</td>\n      <td>-17.763098</td>\n      <td>-63.173016</td>\n      <td>[{'label': 'display', 'lat': -17.7630976, 'lng...</td>\n      <td>2446</td>\n      <td>Santa Cruz</td>\n      <td>Bolivia</td>\n      <td>[3 Anillo Interno (entre av Banzer y av Beni) ...</td>\n      <td>Santa Cruz de la Sierra</td>\n      <td>4eba33866da17451ddc645d7</td>\n    </tr>\n    <tr>\n      <th>29</th>\n      <td>Torradas - Fast Food</td>\n      <td>None</td>\n      <td>-17.802745</td>\n      <td>-63.170867</td>\n      <td>[{'label': 'display', 'lat': -17.8027445516774...</td>\n      <td>2471</td>\n      <td>Santa Cruz</td>\n      <td>Bolivia</td>\n      <td>[Av San Aurelio esq N. Antelo, Santa Cruz de l...</td>\n      <td>Santa Cruz de la Sierra</td>\n      <td>4f47c17ee4b0e1322904d39a</td>\n    </tr>\n  </tbody>\n</table>\n</div>",
      "text/plain": "                               name                categories  location.lat  \\\n0        Las Vegas Buffet Fast Food                    Buffet    -17.773001   \n1               Brazilian Fast Food      Fast Food Restaurant    -17.782999   \n2         Chapaco's Fast Food Grill                 BBQ Joint    -17.766326   \n3   Canyella - Food, Drinks & Music  Mediterranean Restaurant    -17.782080   \n4                           My Food      Fast Food Restaurant    -17.785425   \n5               Garajes Food Trucks                Food Truck    -17.755136   \n6                      Mexican Food        Mexican Restaurant    -17.788620   \n7             La Estancia Fast Food    Argentinian Restaurant    -17.782375   \n8                      Mexican Food        Mexican Restaurant    -17.788543   \n9                  Toty's Fast Food      Fast Food Restaurant    -17.774745   \n10                 Goloxy Fast Food              Burger Joint    -17.791418   \n11         Señor Oso Super Food Bar            Ice Cream Shop    -17.783486   \n12        El Carretonazo Food Truck                Food Court    -17.795204   \n13                        Food Life          Theme Restaurant    -17.798782   \n14                        Mumu food              Burger Joint    -17.771718   \n15              Acai Bar Super Food   Comfort Food Restaurant    -17.797138   \n16       Bufete Las Vegas Fast Food           Thai Restaurant    -17.774007   \n17               Mood! Healthy Food               Salad Place    -17.798775   \n18                     Food Station                Food Truck    -17.760715   \n19                     fingers food       American Restaurant    -17.768155   \n20                     chinese.food      Fast Food Restaurant    -17.782146   \n21            Santa Maria Fast Food              Burger Joint    -17.771441   \n22          Patio Urbano Food & Bar                Food Court    -17.795910   \n23                   Pirai Food&Fun                Food Truck    -17.792595   \n24        Food Court - Ventura Mall   Comfort Food Restaurant    -17.754236   \n25         Acai Corner Healthy Food        Frozen Yogurt Shop    -17.766683   \n26           Meraki Açai Super Food        Frozen Yogurt Shop    -17.766640   \n27                     Mexican Food        Mexican Restaurant    -17.765855   \n28        mangiare (Good Fast Food)      Fast Food Restaurant    -17.763098   \n29             Torradas - Fast Food                      None    -17.802745   \n\n    location.lng                            location.labeledLatLngs  \\\n0     -63.194445  [{'label': 'display', 'lat': -17.773001, 'lng'...   \n1     -63.185392  [{'label': 'display', 'lat': -17.782999, 'lng'...   \n2     -63.164481  [{'label': 'display', 'lat': -17.7663256212280...   \n3     -63.186061  [{'label': 'display', 'lat': -17.7820803075033...   \n4     -63.188457  [{'label': 'display', 'lat': -17.7854251861572...   \n5     -63.172903  [{'label': 'display', 'lat': -17.7551359812027...   \n6     -63.186354  [{'label': 'display', 'lat': -17.7886199703056...   \n7     -63.189168  [{'label': 'display', 'lat': -17.7823749343877...   \n8     -63.186412  [{'label': 'display', 'lat': -17.7885434367881...   \n9     -63.180204  [{'label': 'display', 'lat': -17.7747451624698...   \n10    -63.177322  [{'label': 'display', 'lat': -17.7914180755615...   \n11    -63.192893  [{'label': 'display', 'lat': -17.7834863650278...   \n12    -63.174177  [{'label': 'display', 'lat': -17.795204, 'lng'...   \n13    -63.183056  [{'label': 'display', 'lat': -17.798782, 'lng'...   \n14    -63.179923  [{'label': 'display', 'lat': -17.771718, 'lng'...   \n15    -63.180207  [{'label': 'display', 'lat': -17.797138, 'lng'...   \n16    -63.192799  [{'label': 'display', 'lat': -17.774007, 'lng'...   \n17    -63.179400  [{'label': 'display', 'lat': -17.798775, 'lng'...   \n18    -63.186337  [{'label': 'display', 'lat': -17.7607149856020...   \n19    -63.193235  [{'label': 'display', 'lat': -17.7681549419152...   \n20    -63.182776  [{'label': 'display', 'lat': -17.782146, 'lng'...   \n21    -63.168681  [{'label': 'display', 'lat': -17.7714413479058...   \n22    -63.167187  [{'label': 'display', 'lat': -17.79591, 'lng':...   \n23    -63.199881  [{'label': 'display', 'lat': -17.792595, 'lng'...   \n24    -63.199372  [{'label': 'display', 'lat': -17.754236, 'lng'...   \n25    -63.194622  [{'label': 'display', 'lat': -17.766683, 'lng'...   \n26    -63.194861  [{'label': 'display', 'lat': -17.76664, 'lng':...   \n27    -63.171454  [{'label': 'display', 'lat': -17.7658551655441...   \n28    -63.173016  [{'label': 'display', 'lat': -17.7630976, 'lng...   \n29    -63.170867  [{'label': 'display', 'lat': -17.8027445516774...   \n\n    location.distance location.state location.country  \\\n0                1738     Santa Cruz          Bolivia   \n1                 348     Santa Cruz          Bolivia   \n2                2657     Santa Cruz          Bolivia   \n3                 439     Santa Cruz          Bolivia   \n4                 712     Santa Cruz          Bolivia   \n5                3283     Santa Cruz          Bolivia   \n6                 743     Santa Cruz          Bolivia   \n7                 754     Santa Cruz          Bolivia   \n8                 740     Santa Cruz          Bolivia   \n9                 973     Santa Cruz          Bolivia   \n10               1037     Santa Cruz          Bolivia   \n11               1142     Santa Cruz          Bolivia   \n12               1570     Santa Cruz          Bolivia   \n13               1726     Santa Cruz          Bolivia   \n14               1309     Santa Cruz          Bolivia   \n15               1554     Santa Cruz          Bolivia   \n16               1533     Santa Cruz          Bolivia   \n17               1747     Santa Cruz          Bolivia   \n18               2553     Santa Cruz          Bolivia   \n19               2056     Santa Cruz          Bolivia   \n20                145     Santa Cruz          Bolivia   \n21               1941     Santa Cruz          Bolivia   \n22               2115     Santa Cruz          Bolivia   \n23               2148     Santa Cruz          Bolivia   \n24               3716     Santa Cruz          Bolivia   \n25               2275     Santa Cruz          Bolivia   \n26               2294     Santa Cruz          Bolivia   \n27               2246     Santa Cruz          Bolivia   \n28               2446     Santa Cruz          Bolivia   \n29               2471     Santa Cruz          Bolivia   \n\n                            location.formattedAddress  \\\n0                                           [Bolivia]   \n1                  [Santa Cruz de la Sierra, Bolivia]   \n2                  [Santa Cruz de la Sierra, Bolivia]   \n3   [Calle 21 de Mayo 258, Santa Cruz de la Sierra...   \n4       [Av Cañoto, Santa Cruz de la Sierra, Bolivia]   \n5                  [Santa Cruz de la Sierra, Bolivia]   \n6                                           [Bolivia]   \n7                  [Santa Cruz de la Sierra, Bolivia]   \n8   [Av. Los cusis #2190 (Entre Beni y Alemana), S...   \n9   [Avenida Uruguay  #150, Santa Cruz de la Sierr...   \n10               [Avenida Iralá, Santa Cruz, Bolivia]   \n11  [Alameda Junin 387 (Reyes Cardona), Santa Cruz...   \n12  [Av. Argentina (Av. Mamerto Cuellar), Santa Cr...   \n13                 [Santa Cruz de la Sierra, Bolivia]   \n14                 [Santa Cruz de la Sierra, Bolivia]   \n15                 [Santa Cruz de la Sierra, Bolivia]   \n16                 [Santa Cruz de la Sierra, Bolivia]   \n17                 [Santa Cruz de la Sierra, Bolivia]   \n18  [Av. Alemana 5to. Anillo, Santa Cruz de la Sie...   \n19                                          [Bolivia]   \n20                 [Santa Cruz de la Sierra, Bolivia]   \n21  [Avenida Mutualista, Santa Cruz de la Sierra, ...   \n22                 [Santa Cruz de la Sierra, Bolivia]   \n23                 [Santa Cruz de la Sierra, Bolivia]   \n24                                          [Bolivia]   \n25                                          [Bolivia]   \n26  [Av san Martin, Santa Cruz de la Sierra, Bolivia]   \n27  [Avenida Los Cusis #2190, Santa Cruz de la Sie...   \n28  [3 Anillo Interno (entre av Banzer y av Beni) ...   \n29  [Av San Aurelio esq N. Antelo, Santa Cruz de l...   \n\n              location.city                        id  \n0   Santa Cruz de la Sierra  5d7bd58e2deabf00082c99db  \n1   Santa Cruz de la Sierra  4d08be1ce554721e4f66c3f8  \n2   Santa Cruz de la Sierra  5349db8f498e54a3178975a3  \n3   Santa Cruz de la Sierra  52b1dedd11d2564fa7a312a0  \n4   Santa Cruz de la Sierra  55048e00498ee7519a90e643  \n5   Santa Cruz de la Sierra  5a419c6a6f0aa276862e5dfd  \n6   Santa Cruz de la Sierra  4f95ecdbe4b0d1d5d4540221  \n7   Santa Cruz de la Sierra  4fc16687e4b0d516251295af  \n8   Santa Cruz de la Sierra  50fb48c3e4b0d0486d09b3f3  \n9   Santa Cruz de la Sierra  524af9f611d21590ad9a2786  \n10  Santa Cruz de la Sierra  505a71f7e4b065a90b794f8d  \n11  Santa Cruz de la Sierra  5a7b7b7ecf72a06f3769c91b  \n12  Santa Cruz de la Sierra  5b3ac96a286fda002c4d3427  \n13  Santa Cruz de la Sierra  57964237498eaf4cb022e23d  \n14  Santa Cruz de la Sierra  52cbf765498ee59c9b700bdb  \n15  Santa Cruz de la Sierra  59b459d995da0c3b7f87be4a  \n16  Santa Cruz de la Sierra  5de2ae1ba11af9000860180d  \n17  Santa Cruz de la Sierra  5a7263015ba046224d084786  \n18  Santa Cruz de la Sierra  5a542a2486bc4977f4fdfcdc  \n19  Santa Cruz de la Sierra  5192c999498e5b1e2ff4fd2a  \n20  Santa Cruz de la Sierra  535d4b9d498e55b16385cd13  \n21  Santa Cruz de la Sierra  508dc940e4b055a759175128  \n22  Santa Cruz de la Sierra  5ad9326eb9a5a84263bd83e4  \n23  Santa Cruz de la Sierra  5bd12199088158002c5f92bb  \n24  Santa Cruz de la Sierra  5307913a498ec45521077178  \n25  Santa Cruz de la Sierra  5c645dad4a7aae002cbc9ea3  \n26  Santa Cruz de la Sierra  5a7ef90cee712049240ab452  \n27  Santa Cruz de la Sierra  551727a4498e4a598e2409cf  \n28  Santa Cruz de la Sierra  4eba33866da17451ddc645d7  \n29  Santa Cruz de la Sierra  4f47c17ee4b0e1322904d39a  "
     },
     "execution_count": 5,
     "metadata": {},
     "output_type": "execute_result"
    }
   ],
   "source": [
    "venues"
   ]
  },
  {
   "cell_type": "code",
   "execution_count": null,
   "metadata": {},
   "outputs": [],
   "source": []
  }
 ]
}