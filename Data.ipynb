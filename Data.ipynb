import pandas as pd
import numpy as np
import folium, json,requests, googlemaps, pprint, time
from geopy.geocoders import Nominatim
from sklearn import preprocessing
import itertools
import matplotlib.pyplot as plt
import matplotlib.cm as cm
import matplotlib.colors as colors
from sklearn.cluster import KMeans
##%
